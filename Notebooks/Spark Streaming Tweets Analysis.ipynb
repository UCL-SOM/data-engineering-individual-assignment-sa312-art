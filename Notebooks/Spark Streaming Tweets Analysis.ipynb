{
 "cells": [
  {
   "cell_type": "markdown",
   "id": "937c7522",
   "metadata": {},
   "source": [
    "# Get Tweets in Real time "
   ]
  },
  {
   "cell_type": "code",
   "execution_count": 4,
   "id": "cbeea184",
   "metadata": {},
   "outputs": [
    {
     "name": "stdout",
     "output_type": "stream",
     "text": [
      "Defaulting to user installation because normal site-packages is not writeable\n",
      "Collecting tweepy\n",
      "  Downloading tweepy-3.10.0-py2.py3-none-any.whl (30 kB)\n",
      "Requirement already satisfied: six>=1.10.0 in /mnt/notebook-env/lib/python3.7/site-packages (from tweepy) (1.15.0)\n",
      "Requirement already satisfied: requests[socks]>=2.11.1 in /mnt/notebook-env/lib/python3.7/site-packages (from tweepy) (2.25.1)\n",
      "Requirement already satisfied: requests-oauthlib>=0.7.0 in /mnt/notebook-env/lib/python3.7/site-packages (from tweepy) (1.3.0)\n",
      "Requirement already satisfied: oauthlib>=3.0.0 in /mnt/notebook-env/lib/python3.7/site-packages (from requests-oauthlib>=0.7.0->tweepy) (3.1.0)\n",
      "Requirement already satisfied: certifi>=2017.4.17 in /mnt/notebook-env/lib/python3.7/site-packages (from requests[socks]>=2.11.1->tweepy) (2020.12.5)\n",
      "Requirement already satisfied: urllib3<1.27,>=1.21.1 in /mnt/notebook-env/lib/python3.7/site-packages (from requests[socks]>=2.11.1->tweepy) (1.26.4)\n",
      "Requirement already satisfied: idna<3,>=2.5 in /mnt/notebook-env/lib/python3.7/site-packages (from requests[socks]>=2.11.1->tweepy) (2.10)\n",
      "Requirement already satisfied: chardet<5,>=3.0.2 in /mnt/notebook-env/lib/python3.7/site-packages (from requests[socks]>=2.11.1->tweepy) (3.0.4)\n",
      "Requirement already satisfied: PySocks!=1.5.7,>=1.5.6 in /mnt/notebook-env/lib/python3.7/site-packages (from requests[socks]>=2.11.1->tweepy) (1.7.1)\n",
      "Installing collected packages: tweepy\n",
      "Successfully installed tweepy-3.10.0\n",
      "Note: you may need to restart the kernel to use updated packages.\n"
     ]
    }
   ],
   "source": [
    "pip install tweepy"
   ]
  },
  {
   "cell_type": "code",
   "execution_count": 1,
   "id": "3097eb6e",
   "metadata": {},
   "outputs": [],
   "source": [
    "#import packages\n",
    "import tweepy\n",
    "from tweepy import OAuthHandler\n",
    "from tweepy import Stream\n",
    "from tweepy.streaming import StreamListener\n",
    "import socket\n",
    "import json"
   ]
  },
  {
   "cell_type": "code",
   "execution_count": 2,
   "id": "bae6628a",
   "metadata": {},
   "outputs": [],
   "source": [
    "#set the API keys\n",
    "API_Key = \"VXBoAZYLUvGWVWlyBHOog5IN1\"\n",
    "API_Secret_Key = \"slkxkVfG5Z9Bm84UPPpTKUnA6IzmAkSMjzHXZ7XSKwx4c26x4f\"\n",
    "Access_Token = \"1046485624834969600-CNlee6X66mc4PQnaXDk2Zrpuvpkb8N\"\n",
    "Access_Secret = \"gYT41IxSShAAqlC4lWAWaXYUoOp6LLEaELRNjsqqiTWR8\""
   ]
  },
  {
   "cell_type": "code",
   "execution_count": 3,
   "id": "aefb4d73",
   "metadata": {},
   "outputs": [],
   "source": [
    "class TweetsListener(StreamListener): #create a class which uses the StreamListener package\n",
    "    #build the constructor to initialize the socket\n",
    "    def __init__(self,csocket): \n",
    "        self.client_socket = csocket\n",
    "    #get the data in json format from the actual tweets and send it to the socket\n",
    "    def on_data(self,data):\n",
    "        try: #error handling\n",
    "            msg = json.loads(data)\n",
    "            print(msg['text'].encode('utf-8'))\n",
    "            self.client_socket.send(msg['text'].encode('utf-8'))\n",
    "            return True\n",
    "        except BaseException as e:\n",
    "            print(\"Error: %s\" % str(e))\n",
    "        return True "
   ]
  },
  {
   "cell_type": "code",
   "execution_count": 4,
   "id": "074d706a",
   "metadata": {},
   "outputs": [],
   "source": [
    "def send_data(API_socket): #define a function which uses the Access keys to extract the actual data\n",
    "    auth = OAuthHandler(API_Key,API_Secret_Key)\n",
    "    auth.set_access_token = (Access_Token, Access_Secret)\n",
    "    stream = Stream(auth, TweetsListener(c_socket)) #passes the c_socket into the TweetsListener Class\n",
    "    stream.filter(track = ['vaccine', 'vaccination']) #filter the tweets and gets the ones about vaccine"
   ]
  },
  {
   "cell_type": "code",
   "execution_count": 5,
   "id": "dca0b244",
   "metadata": {},
   "outputs": [
    {
     "data": {
      "text/plain": [
       "'ip-10-192-11-72'"
      ]
     },
     "execution_count": 5,
     "metadata": {},
     "output_type": "execute_result"
    }
   ],
   "source": [
    "socket.gethostname()"
   ]
  },
  {
   "cell_type": "code",
   "execution_count": 6,
   "id": "15e08203",
   "metadata": {},
   "outputs": [
    {
     "data": {
      "text/plain": [
       "'10.192.11.72'"
      ]
     },
     "execution_count": 6,
     "metadata": {},
     "output_type": "execute_result"
    }
   ],
   "source": [
    "socket.gethostbyname('ip-10-192-11-72')"
   ]
  },
  {
   "cell_type": "code",
   "execution_count": 7,
   "id": "ce7282e0",
   "metadata": {},
   "outputs": [
    {
     "name": "stdout",
     "output_type": "stream",
     "text": [
      "Listening on port:  8087\n"
     ]
    }
   ],
   "source": [
    "s = socket.socket() #create a socket\n",
    "host = \"10.192.11.72\" #local machine name\n",
    "port = 8087  \n",
    "s.bind((host,port))\n",
    "print('Listening on port:  %s' % str(port))"
   ]
  },
  {
   "cell_type": "code",
   "execution_count": null,
   "id": "f1e68483",
   "metadata": {},
   "outputs": [],
   "source": [
    "s.listen()\n",
    "c, addr = s.accept() #establish connection with API to listen and process the data\n",
    "print(\"Received from :\" + str(addr))"
   ]
  },
  {
   "cell_type": "code",
   "execution_count": null,
   "id": "cf431b34",
   "metadata": {},
   "outputs": [],
   "source": [
    "sendData(c) #send the data in real time to the socket be to be used in the next analysis "
   ]
  },
  {
   "cell_type": "markdown",
   "id": "1556c699",
   "metadata": {},
   "source": [
    "# Spark Streaming Analysis for Tweets on Real time"
   ]
  },
  {
   "cell_type": "code",
   "execution_count": null,
   "id": "392c607c",
   "metadata": {},
   "outputs": [],
   "source": [
    "from __future__ import print_function\n",
    "from pyspark import SparkContext\n",
    "from pyspark.streaming import StreamingContext"
   ]
  },
  {
   "cell_type": "code",
   "execution_count": 2,
   "id": "90c0d3fe",
   "metadata": {},
   "outputs": [
    {
     "name": "stdout",
     "output_type": "stream",
     "text": [
      "Defaulting to user installation because normal site-packages is not writeable\n",
      "Collecting pyspark\n",
      "  Downloading pyspark-3.1.1.tar.gz (212.3 MB)\n",
      "\u001b[K     |████████████████████████████████| 212.3 MB 23 kB/s s eta 0:00:01     |█████████████████▋              | 117.2 MB 93.3 MB/s eta 0:00:02\n",
      "\u001b[?25hCollecting py4j==0.10.9\n",
      "  Downloading py4j-0.10.9-py2.py3-none-any.whl (198 kB)\n",
      "\u001b[K     |████████████████████████████████| 198 kB 90.3 MB/s eta 0:00:01\n",
      "\u001b[?25hBuilding wheels for collected packages: pyspark\n",
      "  Building wheel for pyspark (setup.py) ... \u001b[?25ldone\n",
      "\u001b[?25h  Created wheel for pyspark: filename=pyspark-3.1.1-py2.py3-none-any.whl size=212767604 sha256=1c038356a7cadd8b21eb1832a53deef2b098e68cc8eb05b003dfe477ddffb423\n",
      "  Stored in directory: /home/emr-notebook/.cache/pip/wheels/43/47/42/bc413c760cf9d3f7b46ab7cd6590e8c47ebfd19a7386cd4a57\n",
      "Successfully built pyspark\n",
      "Installing collected packages: py4j, pyspark\n",
      "Successfully installed py4j-0.10.9 pyspark-3.1.1\n",
      "Note: you may need to restart the kernel to use updated packages.\n"
     ]
    }
   ],
   "source": [
    "pip install pyspark"
   ]
  },
  {
   "cell_type": "code",
   "execution_count": null,
   "id": "43a394cd",
   "metadata": {},
   "outputs": [],
   "source": [
    "sc = SparkContext.getOrCreate()"
   ]
  },
  {
   "cell_type": "code",
   "execution_count": null,
   "id": "f630cfdd",
   "metadata": {},
   "outputs": [],
   "source": [
    "ssc = StreamingContext(sc,10) #batch length is 10 sec "
   ]
  },
  {
   "cell_type": "code",
   "execution_count": null,
   "id": "0a63213f",
   "metadata": {},
   "outputs": [],
   "source": [
    "socket_stream = ssc.socketTextStream(\"127.0.0.1\", 8000) #create the socket stream"
   ]
  },
  {
   "cell_type": "code",
   "execution_count": null,
   "id": "936bfdd3",
   "metadata": {},
   "outputs": [],
   "source": [
    "lines = socket_stream.window(30) #window length, tweets tahat are stroed for 30 sec will be analyzed \n"
   ]
  },
  {
   "cell_type": "code",
   "execution_count": null,
   "id": "d57ea547",
   "metadata": {},
   "outputs": [],
   "source": [
    "#process the tweets: apply transformation, filter with hashtag symobol (#), convers words to lower case, then use reducebykey to count occurances \n",
    "hashtags = lines.flatMap( lambda x: x.split(\" \").filter (lambda x: x.lower().startswith(\"#\")).map(lambda x: \n",
    "                    (x.lower()),1)).reduceByKey(lambda a,b: a+b)\n"
   ]
  },
  {
   "cell_type": "code",
   "execution_count": null,
   "id": "964fa802",
   "metadata": {},
   "outputs": [],
   "source": [
    "#sort the hashtags \n",
    "author_counts_sorted = hashtags.transform( lambda foo:foo.sortBy(lambda y:y[0].lower()).sortBy(lambda y:y[1], ascending=False))"
   ]
  },
  {
   "cell_type": "code",
   "execution_count": null,
   "id": "52fb1b7e",
   "metadata": {},
   "outputs": [],
   "source": [
    "#print the final analysis to extract the popular tweets \n",
    "author_counts_sorted.pprint()"
   ]
  },
  {
   "cell_type": "code",
   "execution_count": null,
   "id": "40aa80dd",
   "metadata": {},
   "outputs": [],
   "source": [
    "#start the spark streaming context\n",
    "ssc.start()"
   ]
  },
  {
   "cell_type": "code",
   "execution_count": null,
   "id": "8d78d7f1",
   "metadata": {},
   "outputs": [],
   "source": [
    "#stop the streaming job \n",
    "ssc.awaitTermination()"
   ]
  },
  {
   "cell_type": "code",
   "execution_count": null,
   "id": "af8e2c0f",
   "metadata": {},
   "outputs": [],
   "source": []
  }
 ],
 "metadata": {
  "kernelspec": {
   "display_name": "Python 3",
   "language": "python",
   "name": "python3"
  },
  "language_info": {
   "codemirror_mode": {
    "name": "ipython",
    "version": 3
   },
   "file_extension": ".py",
   "mimetype": "text/x-python",
   "name": "python",
   "nbconvert_exporter": "python",
   "pygments_lexer": "ipython3",
   "version": "3.7.4"
  }
 },
 "nbformat": 4,
 "nbformat_minor": 5
}
